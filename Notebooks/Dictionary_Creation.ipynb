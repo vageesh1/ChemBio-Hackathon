{
  "nbformat": 4,
  "nbformat_minor": 0,
  "metadata": {
    "colab": {
      "provenance": []
    },
    "kernelspec": {
      "name": "python3",
      "display_name": "Python 3"
    },
    "language_info": {
      "name": "python"
    }
  },
  "cells": [
    {
      "cell_type": "markdown",
      "source": [
        "### Creation of the translation dictionary"
      ],
      "metadata": {
        "id": "xxhUCeWSMv-5"
      }
    },
    {
      "cell_type": "code",
      "execution_count": 3,
      "metadata": {
        "id": "sZ110r5VMqef"
      },
      "outputs": [],
      "source": [
        "import pandas as pd\n",
        "import rdkit\n",
        "from rdkit import Chem\n",
        "from rdkit.Chem import AllChem"
      ]
    },
    {
      "cell_type": "code",
      "source": [
        "from google.colab import drive\n",
        "drive.mount('/content/drive')"
      ],
      "metadata": {
        "colab": {
          "base_uri": "https://localhost:8080/"
        },
        "id": "zYdviV8TOzTO",
        "outputId": "5b5f72b6-58a9-4a3b-aa14-5687c10774d2"
      },
      "execution_count": 17,
      "outputs": [
        {
          "output_type": "stream",
          "name": "stdout",
          "text": [
            "Mounted at /content/drive\n"
          ]
        }
      ]
    },
    {
      "cell_type": "markdown",
      "source": [
        "### Create list of unique compounds and their occurrences"
      ],
      "metadata": {
        "id": "UnrASVY9M6qN"
      }
    },
    {
      "cell_type": "markdown",
      "source": [
        "### Reading raw data\n"
      ],
      "metadata": {
        "id": "jFxtDrmLM9mq"
      }
    },
    {
      "cell_type": "code",
      "source": [
        "# load original data\n",
        "cjhif = pd.read_csv('/content/drive/MyDrive/Chiros Dataset/data_from_CJHIF_utf8.txt', sep=\"\\t\", header=None)\n",
        "# Fill NaN with empty strings\n",
        "cjhif.fillna(\"empty\", inplace=True)\n",
        "# Drop columns 1 and 2\n",
        "cjhif.drop(labels=[1, 2], axis=1, inplace=True)\n",
        "# Rename columns\n",
        "cjhif.rename(\n",
        "    columns={\n",
        "        0: \"rxn_smiles\",\n",
        "        3: \"reagent\",\n",
        "        4: \"solvent\",\n",
        "        5: \"catalyst\",\n",
        "        6: \"yield\",\n",
        "    },\n",
        "    inplace=True,\n",
        ")"
      ],
      "metadata": {
        "id": "8KkIfC7dM0Xq"
      },
      "execution_count": 20,
      "outputs": []
    },
    {
      "cell_type": "code",
      "source": [
        "# Merge the reagent, solvent and catalyst columns into one column\n",
        "cjhif[\"all_compounds\"] = (\n",
        "    cjhif[\"reagent\"].astype(str)\n",
        "    + \"|\"\n",
        "    + cjhif[\"catalyst\"].astype(str)\n",
        "    + \"|\"\n",
        "    + cjhif[\"solvent\"].astype(str)\n",
        ")"
      ],
      "metadata": {
        "id": "QKB50eQ9M0Zy"
      },
      "execution_count": 21,
      "outputs": []
    },
    {
      "cell_type": "code",
      "source": [
        "all_compounds = (\n",
        "    cjhif[\"all_compounds\"].str.split(\"|\").explode().reset_index(drop=True)\n",
        ")\n",
        "all_compounds = all_compounds[all_compounds != \"empty\"]\n",
        "compound_counts = all_compounds.value_counts().reset_index()\n",
        "compound_counts.columns = [\"Compound\", \"Occurrences\"]\n",
        "compound_counts = compound_counts.sort_values(by=\"Compound\").reset_index(\n",
        "    drop=True\n",
        ")"
      ],
      "metadata": {
        "id": "kkv8QbcqM0cB"
      },
      "execution_count": 22,
      "outputs": []
    },
    {
      "cell_type": "code",
      "source": [
        "compound_counts = all_compounds.value_counts().reset_index()\n",
        "compound_counts.columns = [\"Compound\", \"Occurrences\"]\n",
        "compound_counts = compound_counts.sort_values(by=\"Compound\").reset_index(\n",
        "    drop=True\n",
        ")"
      ],
      "metadata": {
        "id": "89zOnKSAM0eO"
      },
      "execution_count": 23,
      "outputs": []
    },
    {
      "cell_type": "code",
      "source": [
        "print(f\"There are {len(compound_counts)} unique compounds in the dataset.\")\n"
      ],
      "metadata": {
        "colab": {
          "base_uri": "https://localhost:8080/"
        },
        "id": "O0CGb4wTM0gl",
        "outputId": "294a129c-e6f8-41c5-ca4e-3a9210b36ac7"
      },
      "execution_count": 24,
      "outputs": [
        {
          "output_type": "stream",
          "name": "stdout",
          "text": [
            "There are 107 unique compounds in the dataset.\n"
          ]
        }
      ]
    },
    {
      "cell_type": "code",
      "source": [
        "# Save the data in a tsv file\n",
        "compound_counts.to_csv(\n",
        "    \"/content/drive/MyDrive/Chiros Dataset/cjhif_translation_table.tsv\", sep=\"\\t\", index=False\n",
        ")"
      ],
      "metadata": {
        "id": "1wbHeFgkM0kC"
      },
      "execution_count": 25,
      "outputs": []
    },
    {
      "cell_type": "markdown",
      "source": [
        "## Translate each compound name to SMILES using PubChem API and py2opsin\n"
      ],
      "metadata": {
        "id": "kEQMRLpyPh1S"
      }
    },
    {
      "cell_type": "code",
      "source": [
        "import pubchempy as pcp\n",
        "from py2opsin import py2opsin"
      ],
      "metadata": {
        "id": "HNfU-8L2PnNq"
      },
      "execution_count": 28,
      "outputs": []
    },
    {
      "cell_type": "code",
      "source": [
        "# Functions for PubChem and py2opsin translation\n",
        "\n",
        "\n",
        "def query_opsin_pubchem(name: str) -> str:\n",
        "    \"\"\"Query name of compound in OpSin and if it fails query PubChem\"\"\"\n",
        "\n",
        "    query = py2opsin(name)\n",
        "\n",
        "    if query == \"\":\n",
        "        query = pcp.get_compounds(name, \"name\")\n",
        "        if query == []:\n",
        "            return \"empty\"\n",
        "        else:\n",
        "            return query[0].isomeric_smiles\n",
        "    else:\n",
        "        return query\n",
        "\n",
        "\n",
        "def get_smiles_opsin_pubchem(name: str, format_bond=True) -> str:\n",
        "    \"\"\"Get SMILES string from OpSin and if it fails query PubChem\n",
        "\n",
        "    Args:\n",
        "        name (str): name of compound\n",
        "        format_bond (bool): if True, replace '.' with '~' in SMILES string\n",
        "\n",
        "    Returns:\n",
        "        str: SMILES string\n",
        "    \"\"\"\n",
        "\n",
        "    names = name.split(\"|\")\n",
        "\n",
        "    structures = {str(query_opsin_pubchem(name)) for name in names}\n",
        "    structures.discard(\"None\")\n",
        "    structures.discard(\"\")\n",
        "\n",
        "    if format_bond:\n",
        "        structures = [structure.replace(\".\", \"~\") for structure in structures]\n",
        "\n",
        "    structures = \".\".join(structures)\n",
        "\n",
        "    return structures"
      ],
      "metadata": {
        "id": "OuHJ7fndPyEn"
      },
      "execution_count": 29,
      "outputs": []
    },
    {
      "cell_type": "code",
      "source": [
        "# Translate the compounds to SMILES strings\n",
        "# [WARNING] : This takes a long time to run, the translation dictionnary is already provided in the dataset folder.\n",
        "\n",
        "\n",
        "compound_counts[\"SMILES\"] = compound_counts[\"Compound\"].apply(\n",
        "    get_smiles_opsin_pubchem\n",
        ")"
      ],
      "metadata": {
        "id": "B60A_1x4P2Id"
      },
      "execution_count": null,
      "outputs": []
    },
    {
      "cell_type": "code",
      "source": [
        "# save the translation table\n",
        "compound_counts = compound_counts[compound_counts[\"Compound\"] != \"empty\"]\n",
        "compound_counts.to_csv(\n",
        "    \"/content/drive/MyDrive/Chiros Dataset/cjhif_translation_table.tsv\", sep=\"\\t\", index=False\n",
        ")"
      ],
      "metadata": {
        "id": "1mDEf1dKP8yJ"
      },
      "execution_count": null,
      "outputs": []
    }
  ]
}