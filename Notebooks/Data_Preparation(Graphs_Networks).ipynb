{
  "nbformat": 4,
  "nbformat_minor": 0,
  "metadata": {
    "colab": {
      "provenance": []
    },
    "kernelspec": {
      "name": "python3",
      "display_name": "Python 3"
    },
    "language_info": {
      "name": "python"
    }
  },
  "cells": [
    {
      "cell_type": "markdown",
      "source": [
        "This is a file about making the graph neural networks out of the smile annotation we are given for making the use of graph neural networks"
      ],
      "metadata": {
        "id": "TUGo7GTcGKm8"
      }
    },
    {
      "cell_type": "markdown",
      "source": [
        "# Importing Libraries"
      ],
      "metadata": {
        "id": "6tBx52QEGaVe"
      }
    },
    {
      "cell_type": "code",
      "source": [
        "!pip install rdkit-pypi"
      ],
      "metadata": {
        "id": "VC_lDzfLFHQp"
      },
      "execution_count": null,
      "outputs": []
    },
    {
      "cell_type": "code",
      "source": [
        "!pip install torch\n",
        "!pip install torch-geometric"
      ],
      "metadata": {
        "id": "rUweIAomF_Vp"
      },
      "execution_count": null,
      "outputs": []
    },
    {
      "cell_type": "code",
      "source": [
        "from rdkit import Chem\n",
        "from rdkit.Chem import Draw\n",
        "from rdkit.Chem import AllChem\n",
        "\n",
        "import torch\n",
        "from torch_geometric.data import Data\n",
        "\n",
        "import numpy as np\n",
        "import matplotlib.pyplot as plt"
      ],
      "metadata": {
        "id": "bMhG7CXZGXDR"
      },
      "execution_count": 14,
      "outputs": []
    },
    {
      "cell_type": "markdown",
      "source": [
        "# Smile to Image\n",
        "In this section we are converting the input smile to a structure.png to show the structure of it"
      ],
      "metadata": {
        "id": "WxbRowtzGdKX"
      }
    },
    {
      "cell_type": "code",
      "execution_count": 13,
      "metadata": {
        "id": "H3xV-P4cBwKJ"
      },
      "outputs": [],
      "source": [
        "def smiles_to_mol(smiles):\n",
        "    mol = Chem.MolFromSmiles(smiles)\n",
        "    return mol\n",
        "\n",
        "def add_hydrogens(mol):\n",
        "    mol = Chem.AddHs(mol)\n",
        "    return mol\n",
        "\n",
        "def draw_molecule(mol, filename=None):\n",
        "    if filename:\n",
        "        Draw.MolToImageFile(mol, filename)\n",
        "    else:\n",
        "        Draw.MolToImage(mol)\n",
        "\n",
        "def generate_3d_coordinates(mol):\n",
        "    AllChem.EmbedMolecule(mol, randomSeed=42)  # You can choose any seed value\n",
        "\n",
        "# Example usage:\n",
        "smiles_string = \"CCO\"\n",
        "mol = smiles_to_mol(smiles_string)\n",
        "\n",
        "# Add explicit hydrogens\n",
        "mol = add_hydrogens(mol)\n",
        "\n",
        "# Generate 3D coordinates for visualization\n",
        "generate_3d_coordinates(mol)\n",
        "\n",
        "# Draw and display the molecule\n",
        "draw_molecule(mol, filename=\"molecule.png\")"
      ]
    },
    {
      "cell_type": "markdown",
      "source": [
        "# Smile to Graphs\n",
        "In this section we are converting the smiles to the graph format"
      ],
      "metadata": {
        "id": "XWRk5IZkG2d2"
      }
    },
    {
      "cell_type": "code",
      "source": [
        "def smiles_to_graph(smiles):\n",
        "    mol = Chem.MolFromSmiles(smiles)\n",
        "\n",
        "    # Add explicit hydrogens\n",
        "    mol = Chem.AddHs(mol)\n",
        "\n",
        "    # Generate 3D coordinates for visualization\n",
        "    AllChem.EmbedMolecule(mol, randomSeed=42)  # You can choose any seed value\n",
        "\n",
        "    # Get atom features and adjacency matrix\n",
        "    num_atoms = mol.GetNumAtoms()\n",
        "    atom_features = np.zeros((num_atoms, 3))  # You may need to adjust the feature dimensions\n",
        "    adjacency_matrix = np.zeros((num_atoms, num_atoms))\n",
        "\n",
        "    for bond in mol.GetBonds():\n",
        "        i = bond.GetBeginAtomIdx()\n",
        "        j = bond.GetEndAtomIdx()\n",
        "        adjacency_matrix[i, j] = adjacency_matrix[j, i] = 1  # Adjacency matrix is symmetric\n",
        "\n",
        "    for atom in mol.GetAtoms():\n",
        "        idx = atom.GetIdx()\n",
        "        atom_features[idx, 0] = atom.GetAtomicNum()  # Atom type or atomic number\n",
        "        atom_features[idx, 1] = atom.GetTotalNumHs()  # Number of hydrogen atoms\n",
        "        atom_features[idx, 2] = atom.GetFormalCharge()  # Formal charge\n",
        "\n",
        "    # Convert to PyTorch tensors\n",
        "    atom_features = torch.tensor(atom_features, dtype=torch.float)\n",
        "    adjacency_matrix = torch.tensor(adjacency_matrix, dtype=torch.float)\n",
        "\n",
        "    # Create PyTorch Geometric data object\n",
        "    edge_index = torch.nonzero(adjacency_matrix, as_tuple=True)\n",
        "    data = Data(x=atom_features, edge_index=edge_index)\n",
        "\n",
        "    return data\n",
        "\n",
        "# Example usage:\n",
        "smiles_string = \"CCO\"\n",
        "graph_data = smiles_to_graph(smiles_string)\n",
        "\n",
        "print(\"Node Features:\")\n",
        "print(graph_data.x)\n",
        "print(\"\\nEdge Index:\")\n",
        "print(graph_data.edge_index)\n"
      ],
      "metadata": {
        "colab": {
          "base_uri": "https://localhost:8080/"
        },
        "id": "DXZig6wFFDWQ",
        "outputId": "334e8842-ba12-43d0-a87b-25e0b30bd974"
      },
      "execution_count": 16,
      "outputs": [
        {
          "output_type": "stream",
          "name": "stdout",
          "text": [
            "Node Features:\n",
            "tensor([[6., 0., 0.],\n",
            "        [6., 0., 0.],\n",
            "        [8., 0., 0.],\n",
            "        [1., 0., 0.],\n",
            "        [1., 0., 0.],\n",
            "        [1., 0., 0.],\n",
            "        [1., 0., 0.],\n",
            "        [1., 0., 0.],\n",
            "        [1., 0., 0.]])\n",
            "\n",
            "Edge Index:\n",
            "(tensor([0, 0, 0, 0, 1, 1, 1, 1, 2, 2, 3, 4, 5, 6, 7, 8]), tensor([1, 3, 4, 5, 0, 2, 6, 7, 1, 8, 0, 0, 0, 1, 1, 2]))\n"
          ]
        }
      ]
    },
    {
      "cell_type": "markdown",
      "source": [
        "The above are the input features that needs to be feeded into our graph neural network"
      ],
      "metadata": {
        "id": "imn_q-QvHpJL"
      }
    },
    {
      "cell_type": "code",
      "source": [],
      "metadata": {
        "id": "GnZWl3B-Hdkx"
      },
      "execution_count": null,
      "outputs": []
    }
  ]
}